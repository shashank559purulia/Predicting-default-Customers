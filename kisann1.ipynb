{
  "nbformat": 4,
  "nbformat_minor": 0,
  "metadata": {
    "colab": {
      "name": "kisann1.ipynb",
      "provenance": [],
      "collapsed_sections": [],
      "authorship_tag": "ABX9TyO27Cr7hvIhC0jAgQRTb3N5",
      "include_colab_link": true
    },
    "kernelspec": {
      "name": "python3",
      "display_name": "Python 3"
    },
    "language_info": {
      "name": "python"
    }
  },
  "cells": [
    {
      "cell_type": "markdown",
      "metadata": {
        "id": "view-in-github",
        "colab_type": "text"
      },
      "source": [
        "<a href=\"https://colab.research.google.com/github/shashank559purulia/Predicting-default-Customers/blob/main/kisann1.ipynb\" target=\"_parent\"><img src=\"https://colab.research.google.com/assets/colab-badge.svg\" alt=\"Open In Colab\"/></a>"
      ]
    },
    {
      "cell_type": "code",
      "execution_count": null,
      "metadata": {
        "id": "q3n0XrK408Cj"
      },
      "outputs": [],
      "source": [
        "import pandas as pd"
      ]
    },
    {
      "cell_type": "code",
      "source": [
        "! gdown --id 1PiqtIzS7XZ91bvJVfCVf-3Aw_GE0iENR"
      ],
      "metadata": {
        "colab": {
          "base_uri": "https://localhost:8080/"
        },
        "id": "Z_TUfjiZ1FsJ",
        "outputId": "0be7e56f-9d14-475f-a19e-49cd8b3d45b5"
      },
      "execution_count": null,
      "outputs": [
        {
          "output_type": "stream",
          "name": "stdout",
          "text": [
            "/usr/local/lib/python3.7/dist-packages/gdown/cli.py:131: FutureWarning: Option `--id` was deprecated in version 4.3.1 and will be removed in 5.0. You don't need to pass it anymore to use a file ID.\n",
            "  category=FutureWarning,\n",
            "Downloading...\n",
            "From: https://drive.google.com/uc?id=1PiqtIzS7XZ91bvJVfCVf-3Aw_GE0iENR\n",
            "To: /content/kisan_net_log.csv\n",
            "100% 27.5M/27.5M [00:00<00:00, 124MB/s] \n"
          ]
        }
      ]
    },
    {
      "cell_type": "code",
      "source": [
        "kisan=pd.read_csv('kisan_net_log.csv')\n",
        "kisan.head()"
      ],
      "metadata": {
        "colab": {
          "base_uri": "https://localhost:8080/",
          "height": 525
        },
        "id": "4qGc9IAM5zLw",
        "outputId": "d23411ee-4b55-4b79-da92-b49e27ddb0d9"
      },
      "execution_count": null,
      "outputs": [
        {
          "output_type": "stream",
          "name": "stderr",
          "text": [
            "/usr/local/lib/python3.7/dist-packages/IPython/core/interactiveshell.py:2882: DtypeWarning: Columns (19,29,30) have mixed types.Specify dtype option on import or set low_memory=False.\n",
            "  exec(code_obj, self.user_global_ns, self.user_ns)\n"
          ]
        },
        {
          "output_type": "execute_result",
          "data": {
            "text/plain": [
              "     loan_amnt        term  int_rate  installment grade sub_grade  \\\n",
              "0      10000.0   36 months     11.44       329.48     B        B4   \n",
              "1  Mendozaberg   OK 22690\"       NaN          NaN   NaN       NaN   \n",
              "2       8000.0   36 months     11.99       265.68     B        B5   \n",
              "3   Loganmouth   SD 05113\"       NaN          NaN   NaN       NaN   \n",
              "4      15600.0   36 months     10.49       506.97     B        B3   \n",
              "\n",
              "         emp_title emp_length home_ownership annual_inc  ... total_acc  \\\n",
              "0        Marketing  10+ years           RENT     117000  ...      25.0   \n",
              "1              NaN        NaN            NaN        NaN  ...       NaN   \n",
              "2  Credit analyst     4 years       MORTGAGE      65000  ...      27.0   \n",
              "3              NaN        NaN            NaN        NaN  ...       NaN   \n",
              "4     Statistician   < 1 year           RENT      43057  ...      26.0   \n",
              "\n",
              "  initial_list_status application_type mort_acc pub_rec_bankruptcies  \\\n",
              "0                   w       INDIVIDUAL        0                    0   \n",
              "1                 NaN              NaN      NaN                  NaN   \n",
              "2                   f       INDIVIDUAL        3                    0   \n",
              "3                 NaN              NaN      NaN                  NaN   \n",
              "4                   f       INDIVIDUAL        0                    0   \n",
              "\n",
              "                      address Unnamed: 27 Unnamed: 28 Unnamed: 29 Unnamed: 30  \n",
              "0      \"0174 Michelle Gateway         NaN         NaN         NaN         NaN  \n",
              "1                         NaN         NaN         NaN         NaN         NaN  \n",
              "2  \"1076 Carney Fort Apt. 347         NaN         NaN         NaN         NaN  \n",
              "3                         NaN         NaN         NaN         NaN         NaN  \n",
              "4   \"87025 Mark Dale Apt. 269         NaN         NaN         NaN         NaN  \n",
              "\n",
              "[5 rows x 31 columns]"
            ],
            "text/html": [
              "\n",
              "  <div id=\"df-a391d67d-e987-42be-8d3e-68bc117aa00a\">\n",
              "    <div class=\"colab-df-container\">\n",
              "      <div>\n",
              "<style scoped>\n",
              "    .dataframe tbody tr th:only-of-type {\n",
              "        vertical-align: middle;\n",
              "    }\n",
              "\n",
              "    .dataframe tbody tr th {\n",
              "        vertical-align: top;\n",
              "    }\n",
              "\n",
              "    .dataframe thead th {\n",
              "        text-align: right;\n",
              "    }\n",
              "</style>\n",
              "<table border=\"1\" class=\"dataframe\">\n",
              "  <thead>\n",
              "    <tr style=\"text-align: right;\">\n",
              "      <th></th>\n",
              "      <th>loan_amnt</th>\n",
              "      <th>term</th>\n",
              "      <th>int_rate</th>\n",
              "      <th>installment</th>\n",
              "      <th>grade</th>\n",
              "      <th>sub_grade</th>\n",
              "      <th>emp_title</th>\n",
              "      <th>emp_length</th>\n",
              "      <th>home_ownership</th>\n",
              "      <th>annual_inc</th>\n",
              "      <th>...</th>\n",
              "      <th>total_acc</th>\n",
              "      <th>initial_list_status</th>\n",
              "      <th>application_type</th>\n",
              "      <th>mort_acc</th>\n",
              "      <th>pub_rec_bankruptcies</th>\n",
              "      <th>address</th>\n",
              "      <th>Unnamed: 27</th>\n",
              "      <th>Unnamed: 28</th>\n",
              "      <th>Unnamed: 29</th>\n",
              "      <th>Unnamed: 30</th>\n",
              "    </tr>\n",
              "  </thead>\n",
              "  <tbody>\n",
              "    <tr>\n",
              "      <th>0</th>\n",
              "      <td>10000.0</td>\n",
              "      <td>36 months</td>\n",
              "      <td>11.44</td>\n",
              "      <td>329.48</td>\n",
              "      <td>B</td>\n",
              "      <td>B4</td>\n",
              "      <td>Marketing</td>\n",
              "      <td>10+ years</td>\n",
              "      <td>RENT</td>\n",
              "      <td>117000</td>\n",
              "      <td>...</td>\n",
              "      <td>25.0</td>\n",
              "      <td>w</td>\n",
              "      <td>INDIVIDUAL</td>\n",
              "      <td>0</td>\n",
              "      <td>0</td>\n",
              "      <td>\"0174 Michelle Gateway</td>\n",
              "      <td>NaN</td>\n",
              "      <td>NaN</td>\n",
              "      <td>NaN</td>\n",
              "      <td>NaN</td>\n",
              "    </tr>\n",
              "    <tr>\n",
              "      <th>1</th>\n",
              "      <td>Mendozaberg</td>\n",
              "      <td>OK 22690\"</td>\n",
              "      <td>NaN</td>\n",
              "      <td>NaN</td>\n",
              "      <td>NaN</td>\n",
              "      <td>NaN</td>\n",
              "      <td>NaN</td>\n",
              "      <td>NaN</td>\n",
              "      <td>NaN</td>\n",
              "      <td>NaN</td>\n",
              "      <td>...</td>\n",
              "      <td>NaN</td>\n",
              "      <td>NaN</td>\n",
              "      <td>NaN</td>\n",
              "      <td>NaN</td>\n",
              "      <td>NaN</td>\n",
              "      <td>NaN</td>\n",
              "      <td>NaN</td>\n",
              "      <td>NaN</td>\n",
              "      <td>NaN</td>\n",
              "      <td>NaN</td>\n",
              "    </tr>\n",
              "    <tr>\n",
              "      <th>2</th>\n",
              "      <td>8000.0</td>\n",
              "      <td>36 months</td>\n",
              "      <td>11.99</td>\n",
              "      <td>265.68</td>\n",
              "      <td>B</td>\n",
              "      <td>B5</td>\n",
              "      <td>Credit analyst</td>\n",
              "      <td>4 years</td>\n",
              "      <td>MORTGAGE</td>\n",
              "      <td>65000</td>\n",
              "      <td>...</td>\n",
              "      <td>27.0</td>\n",
              "      <td>f</td>\n",
              "      <td>INDIVIDUAL</td>\n",
              "      <td>3</td>\n",
              "      <td>0</td>\n",
              "      <td>\"1076 Carney Fort Apt. 347</td>\n",
              "      <td>NaN</td>\n",
              "      <td>NaN</td>\n",
              "      <td>NaN</td>\n",
              "      <td>NaN</td>\n",
              "    </tr>\n",
              "    <tr>\n",
              "      <th>3</th>\n",
              "      <td>Loganmouth</td>\n",
              "      <td>SD 05113\"</td>\n",
              "      <td>NaN</td>\n",
              "      <td>NaN</td>\n",
              "      <td>NaN</td>\n",
              "      <td>NaN</td>\n",
              "      <td>NaN</td>\n",
              "      <td>NaN</td>\n",
              "      <td>NaN</td>\n",
              "      <td>NaN</td>\n",
              "      <td>...</td>\n",
              "      <td>NaN</td>\n",
              "      <td>NaN</td>\n",
              "      <td>NaN</td>\n",
              "      <td>NaN</td>\n",
              "      <td>NaN</td>\n",
              "      <td>NaN</td>\n",
              "      <td>NaN</td>\n",
              "      <td>NaN</td>\n",
              "      <td>NaN</td>\n",
              "      <td>NaN</td>\n",
              "    </tr>\n",
              "    <tr>\n",
              "      <th>4</th>\n",
              "      <td>15600.0</td>\n",
              "      <td>36 months</td>\n",
              "      <td>10.49</td>\n",
              "      <td>506.97</td>\n",
              "      <td>B</td>\n",
              "      <td>B3</td>\n",
              "      <td>Statistician</td>\n",
              "      <td>&lt; 1 year</td>\n",
              "      <td>RENT</td>\n",
              "      <td>43057</td>\n",
              "      <td>...</td>\n",
              "      <td>26.0</td>\n",
              "      <td>f</td>\n",
              "      <td>INDIVIDUAL</td>\n",
              "      <td>0</td>\n",
              "      <td>0</td>\n",
              "      <td>\"87025 Mark Dale Apt. 269</td>\n",
              "      <td>NaN</td>\n",
              "      <td>NaN</td>\n",
              "      <td>NaN</td>\n",
              "      <td>NaN</td>\n",
              "    </tr>\n",
              "  </tbody>\n",
              "</table>\n",
              "<p>5 rows × 31 columns</p>\n",
              "</div>\n",
              "      <button class=\"colab-df-convert\" onclick=\"convertToInteractive('df-a391d67d-e987-42be-8d3e-68bc117aa00a')\"\n",
              "              title=\"Convert this dataframe to an interactive table.\"\n",
              "              style=\"display:none;\">\n",
              "        \n",
              "  <svg xmlns=\"http://www.w3.org/2000/svg\" height=\"24px\"viewBox=\"0 0 24 24\"\n",
              "       width=\"24px\">\n",
              "    <path d=\"M0 0h24v24H0V0z\" fill=\"none\"/>\n",
              "    <path d=\"M18.56 5.44l.94 2.06.94-2.06 2.06-.94-2.06-.94-.94-2.06-.94 2.06-2.06.94zm-11 1L8.5 8.5l.94-2.06 2.06-.94-2.06-.94L8.5 2.5l-.94 2.06-2.06.94zm10 10l.94 2.06.94-2.06 2.06-.94-2.06-.94-.94-2.06-.94 2.06-2.06.94z\"/><path d=\"M17.41 7.96l-1.37-1.37c-.4-.4-.92-.59-1.43-.59-.52 0-1.04.2-1.43.59L10.3 9.45l-7.72 7.72c-.78.78-.78 2.05 0 2.83L4 21.41c.39.39.9.59 1.41.59.51 0 1.02-.2 1.41-.59l7.78-7.78 2.81-2.81c.8-.78.8-2.07 0-2.86zM5.41 20L4 18.59l7.72-7.72 1.47 1.35L5.41 20z\"/>\n",
              "  </svg>\n",
              "      </button>\n",
              "      \n",
              "  <style>\n",
              "    .colab-df-container {\n",
              "      display:flex;\n",
              "      flex-wrap:wrap;\n",
              "      gap: 12px;\n",
              "    }\n",
              "\n",
              "    .colab-df-convert {\n",
              "      background-color: #E8F0FE;\n",
              "      border: none;\n",
              "      border-radius: 50%;\n",
              "      cursor: pointer;\n",
              "      display: none;\n",
              "      fill: #1967D2;\n",
              "      height: 32px;\n",
              "      padding: 0 0 0 0;\n",
              "      width: 32px;\n",
              "    }\n",
              "\n",
              "    .colab-df-convert:hover {\n",
              "      background-color: #E2EBFA;\n",
              "      box-shadow: 0px 1px 2px rgba(60, 64, 67, 0.3), 0px 1px 3px 1px rgba(60, 64, 67, 0.15);\n",
              "      fill: #174EA6;\n",
              "    }\n",
              "\n",
              "    [theme=dark] .colab-df-convert {\n",
              "      background-color: #3B4455;\n",
              "      fill: #D2E3FC;\n",
              "    }\n",
              "\n",
              "    [theme=dark] .colab-df-convert:hover {\n",
              "      background-color: #434B5C;\n",
              "      box-shadow: 0px 1px 3px 1px rgba(0, 0, 0, 0.15);\n",
              "      filter: drop-shadow(0px 1px 2px rgba(0, 0, 0, 0.3));\n",
              "      fill: #FFFFFF;\n",
              "    }\n",
              "  </style>\n",
              "\n",
              "      <script>\n",
              "        const buttonEl =\n",
              "          document.querySelector('#df-a391d67d-e987-42be-8d3e-68bc117aa00a button.colab-df-convert');\n",
              "        buttonEl.style.display =\n",
              "          google.colab.kernel.accessAllowed ? 'block' : 'none';\n",
              "\n",
              "        async function convertToInteractive(key) {\n",
              "          const element = document.querySelector('#df-a391d67d-e987-42be-8d3e-68bc117aa00a');\n",
              "          const dataTable =\n",
              "            await google.colab.kernel.invokeFunction('convertToInteractive',\n",
              "                                                     [key], {});\n",
              "          if (!dataTable) return;\n",
              "\n",
              "          const docLinkHtml = 'Like what you see? Visit the ' +\n",
              "            '<a target=\"_blank\" href=https://colab.research.google.com/notebooks/data_table.ipynb>data table notebook</a>'\n",
              "            + ' to learn more about interactive tables.';\n",
              "          element.innerHTML = '';\n",
              "          dataTable['output_type'] = 'display_data';\n",
              "          await google.colab.output.renderOutput(dataTable, element);\n",
              "          const docLink = document.createElement('div');\n",
              "          docLink.innerHTML = docLinkHtml;\n",
              "          element.appendChild(docLink);\n",
              "        }\n",
              "      </script>\n",
              "    </div>\n",
              "  </div>\n",
              "  "
            ]
          },
          "metadata": {},
          "execution_count": 26
        }
      ]
    },
    {
      "cell_type": "code",
      "source": [
        "kisan1=kisan.iloc[0::2,0:27]\n",
        "kisan1.head()\n"
      ],
      "metadata": {
        "colab": {
          "base_uri": "https://localhost:8080/",
          "height": 508
        },
        "id": "TzRa2ljl-lD6",
        "outputId": "1a22e854-4842-4a84-f90e-2f47307f0a65"
      },
      "execution_count": null,
      "outputs": [
        {
          "output_type": "execute_result",
          "data": {
            "text/plain": [
              "  loan_amnt        term  int_rate  installment grade sub_grade  \\\n",
              "0   10000.0   36 months     11.44       329.48     B        B4   \n",
              "2    8000.0   36 months     11.99       265.68     B        B5   \n",
              "4   15600.0   36 months     10.49       506.97     B        B3   \n",
              "6    7200.0   36 months      6.49       220.65     A        A2   \n",
              "8   24375.0   60 months     17.27       609.33     C        C5   \n",
              "\n",
              "                 emp_title emp_length home_ownership annual_inc  ... open_acc  \\\n",
              "0                Marketing  10+ years           RENT     117000  ...       16   \n",
              "2          Credit analyst     4 years       MORTGAGE      65000  ...       17   \n",
              "4             Statistician   < 1 year           RENT      43057  ...       13   \n",
              "6          Client Advocate    6 years           RENT      54000  ...        6   \n",
              "8  Destiny Management Inc.    9 years       MORTGAGE      55000  ...       13   \n",
              "\n",
              "  pub_rec revol_bal revol_util total_acc initial_list_status application_type  \\\n",
              "0       0     36369       41.8      25.0                   w       INDIVIDUAL   \n",
              "2       0     20131       53.3      27.0                   f       INDIVIDUAL   \n",
              "4       0     11987       92.2      26.0                   f       INDIVIDUAL   \n",
              "6       0      5472       21.5      13.0                   f       INDIVIDUAL   \n",
              "8       0     24584       69.8      43.0                   f       INDIVIDUAL   \n",
              "\n",
              "  mort_acc pub_rec_bankruptcies                     address  \n",
              "0        0                    0      \"0174 Michelle Gateway  \n",
              "2        3                    0  \"1076 Carney Fort Apt. 347  \n",
              "4        0                    0   \"87025 Mark Dale Apt. 269  \n",
              "6        0                    0              \"823 Reid Ford  \n",
              "8        1                    0             \"679 Luna Roads  \n",
              "\n",
              "[5 rows x 27 columns]"
            ],
            "text/html": [
              "\n",
              "  <div id=\"df-81d84741-d456-4446-8473-593194017701\">\n",
              "    <div class=\"colab-df-container\">\n",
              "      <div>\n",
              "<style scoped>\n",
              "    .dataframe tbody tr th:only-of-type {\n",
              "        vertical-align: middle;\n",
              "    }\n",
              "\n",
              "    .dataframe tbody tr th {\n",
              "        vertical-align: top;\n",
              "    }\n",
              "\n",
              "    .dataframe thead th {\n",
              "        text-align: right;\n",
              "    }\n",
              "</style>\n",
              "<table border=\"1\" class=\"dataframe\">\n",
              "  <thead>\n",
              "    <tr style=\"text-align: right;\">\n",
              "      <th></th>\n",
              "      <th>loan_amnt</th>\n",
              "      <th>term</th>\n",
              "      <th>int_rate</th>\n",
              "      <th>installment</th>\n",
              "      <th>grade</th>\n",
              "      <th>sub_grade</th>\n",
              "      <th>emp_title</th>\n",
              "      <th>emp_length</th>\n",
              "      <th>home_ownership</th>\n",
              "      <th>annual_inc</th>\n",
              "      <th>...</th>\n",
              "      <th>open_acc</th>\n",
              "      <th>pub_rec</th>\n",
              "      <th>revol_bal</th>\n",
              "      <th>revol_util</th>\n",
              "      <th>total_acc</th>\n",
              "      <th>initial_list_status</th>\n",
              "      <th>application_type</th>\n",
              "      <th>mort_acc</th>\n",
              "      <th>pub_rec_bankruptcies</th>\n",
              "      <th>address</th>\n",
              "    </tr>\n",
              "  </thead>\n",
              "  <tbody>\n",
              "    <tr>\n",
              "      <th>0</th>\n",
              "      <td>10000.0</td>\n",
              "      <td>36 months</td>\n",
              "      <td>11.44</td>\n",
              "      <td>329.48</td>\n",
              "      <td>B</td>\n",
              "      <td>B4</td>\n",
              "      <td>Marketing</td>\n",
              "      <td>10+ years</td>\n",
              "      <td>RENT</td>\n",
              "      <td>117000</td>\n",
              "      <td>...</td>\n",
              "      <td>16</td>\n",
              "      <td>0</td>\n",
              "      <td>36369</td>\n",
              "      <td>41.8</td>\n",
              "      <td>25.0</td>\n",
              "      <td>w</td>\n",
              "      <td>INDIVIDUAL</td>\n",
              "      <td>0</td>\n",
              "      <td>0</td>\n",
              "      <td>\"0174 Michelle Gateway</td>\n",
              "    </tr>\n",
              "    <tr>\n",
              "      <th>2</th>\n",
              "      <td>8000.0</td>\n",
              "      <td>36 months</td>\n",
              "      <td>11.99</td>\n",
              "      <td>265.68</td>\n",
              "      <td>B</td>\n",
              "      <td>B5</td>\n",
              "      <td>Credit analyst</td>\n",
              "      <td>4 years</td>\n",
              "      <td>MORTGAGE</td>\n",
              "      <td>65000</td>\n",
              "      <td>...</td>\n",
              "      <td>17</td>\n",
              "      <td>0</td>\n",
              "      <td>20131</td>\n",
              "      <td>53.3</td>\n",
              "      <td>27.0</td>\n",
              "      <td>f</td>\n",
              "      <td>INDIVIDUAL</td>\n",
              "      <td>3</td>\n",
              "      <td>0</td>\n",
              "      <td>\"1076 Carney Fort Apt. 347</td>\n",
              "    </tr>\n",
              "    <tr>\n",
              "      <th>4</th>\n",
              "      <td>15600.0</td>\n",
              "      <td>36 months</td>\n",
              "      <td>10.49</td>\n",
              "      <td>506.97</td>\n",
              "      <td>B</td>\n",
              "      <td>B3</td>\n",
              "      <td>Statistician</td>\n",
              "      <td>&lt; 1 year</td>\n",
              "      <td>RENT</td>\n",
              "      <td>43057</td>\n",
              "      <td>...</td>\n",
              "      <td>13</td>\n",
              "      <td>0</td>\n",
              "      <td>11987</td>\n",
              "      <td>92.2</td>\n",
              "      <td>26.0</td>\n",
              "      <td>f</td>\n",
              "      <td>INDIVIDUAL</td>\n",
              "      <td>0</td>\n",
              "      <td>0</td>\n",
              "      <td>\"87025 Mark Dale Apt. 269</td>\n",
              "    </tr>\n",
              "    <tr>\n",
              "      <th>6</th>\n",
              "      <td>7200.0</td>\n",
              "      <td>36 months</td>\n",
              "      <td>6.49</td>\n",
              "      <td>220.65</td>\n",
              "      <td>A</td>\n",
              "      <td>A2</td>\n",
              "      <td>Client Advocate</td>\n",
              "      <td>6 years</td>\n",
              "      <td>RENT</td>\n",
              "      <td>54000</td>\n",
              "      <td>...</td>\n",
              "      <td>6</td>\n",
              "      <td>0</td>\n",
              "      <td>5472</td>\n",
              "      <td>21.5</td>\n",
              "      <td>13.0</td>\n",
              "      <td>f</td>\n",
              "      <td>INDIVIDUAL</td>\n",
              "      <td>0</td>\n",
              "      <td>0</td>\n",
              "      <td>\"823 Reid Ford</td>\n",
              "    </tr>\n",
              "    <tr>\n",
              "      <th>8</th>\n",
              "      <td>24375.0</td>\n",
              "      <td>60 months</td>\n",
              "      <td>17.27</td>\n",
              "      <td>609.33</td>\n",
              "      <td>C</td>\n",
              "      <td>C5</td>\n",
              "      <td>Destiny Management Inc.</td>\n",
              "      <td>9 years</td>\n",
              "      <td>MORTGAGE</td>\n",
              "      <td>55000</td>\n",
              "      <td>...</td>\n",
              "      <td>13</td>\n",
              "      <td>0</td>\n",
              "      <td>24584</td>\n",
              "      <td>69.8</td>\n",
              "      <td>43.0</td>\n",
              "      <td>f</td>\n",
              "      <td>INDIVIDUAL</td>\n",
              "      <td>1</td>\n",
              "      <td>0</td>\n",
              "      <td>\"679 Luna Roads</td>\n",
              "    </tr>\n",
              "  </tbody>\n",
              "</table>\n",
              "<p>5 rows × 27 columns</p>\n",
              "</div>\n",
              "      <button class=\"colab-df-convert\" onclick=\"convertToInteractive('df-81d84741-d456-4446-8473-593194017701')\"\n",
              "              title=\"Convert this dataframe to an interactive table.\"\n",
              "              style=\"display:none;\">\n",
              "        \n",
              "  <svg xmlns=\"http://www.w3.org/2000/svg\" height=\"24px\"viewBox=\"0 0 24 24\"\n",
              "       width=\"24px\">\n",
              "    <path d=\"M0 0h24v24H0V0z\" fill=\"none\"/>\n",
              "    <path d=\"M18.56 5.44l.94 2.06.94-2.06 2.06-.94-2.06-.94-.94-2.06-.94 2.06-2.06.94zm-11 1L8.5 8.5l.94-2.06 2.06-.94-2.06-.94L8.5 2.5l-.94 2.06-2.06.94zm10 10l.94 2.06.94-2.06 2.06-.94-2.06-.94-.94-2.06-.94 2.06-2.06.94z\"/><path d=\"M17.41 7.96l-1.37-1.37c-.4-.4-.92-.59-1.43-.59-.52 0-1.04.2-1.43.59L10.3 9.45l-7.72 7.72c-.78.78-.78 2.05 0 2.83L4 21.41c.39.39.9.59 1.41.59.51 0 1.02-.2 1.41-.59l7.78-7.78 2.81-2.81c.8-.78.8-2.07 0-2.86zM5.41 20L4 18.59l7.72-7.72 1.47 1.35L5.41 20z\"/>\n",
              "  </svg>\n",
              "      </button>\n",
              "      \n",
              "  <style>\n",
              "    .colab-df-container {\n",
              "      display:flex;\n",
              "      flex-wrap:wrap;\n",
              "      gap: 12px;\n",
              "    }\n",
              "\n",
              "    .colab-df-convert {\n",
              "      background-color: #E8F0FE;\n",
              "      border: none;\n",
              "      border-radius: 50%;\n",
              "      cursor: pointer;\n",
              "      display: none;\n",
              "      fill: #1967D2;\n",
              "      height: 32px;\n",
              "      padding: 0 0 0 0;\n",
              "      width: 32px;\n",
              "    }\n",
              "\n",
              "    .colab-df-convert:hover {\n",
              "      background-color: #E2EBFA;\n",
              "      box-shadow: 0px 1px 2px rgba(60, 64, 67, 0.3), 0px 1px 3px 1px rgba(60, 64, 67, 0.15);\n",
              "      fill: #174EA6;\n",
              "    }\n",
              "\n",
              "    [theme=dark] .colab-df-convert {\n",
              "      background-color: #3B4455;\n",
              "      fill: #D2E3FC;\n",
              "    }\n",
              "\n",
              "    [theme=dark] .colab-df-convert:hover {\n",
              "      background-color: #434B5C;\n",
              "      box-shadow: 0px 1px 3px 1px rgba(0, 0, 0, 0.15);\n",
              "      filter: drop-shadow(0px 1px 2px rgba(0, 0, 0, 0.3));\n",
              "      fill: #FFFFFF;\n",
              "    }\n",
              "  </style>\n",
              "\n",
              "      <script>\n",
              "        const buttonEl =\n",
              "          document.querySelector('#df-81d84741-d456-4446-8473-593194017701 button.colab-df-convert');\n",
              "        buttonEl.style.display =\n",
              "          google.colab.kernel.accessAllowed ? 'block' : 'none';\n",
              "\n",
              "        async function convertToInteractive(key) {\n",
              "          const element = document.querySelector('#df-81d84741-d456-4446-8473-593194017701');\n",
              "          const dataTable =\n",
              "            await google.colab.kernel.invokeFunction('convertToInteractive',\n",
              "                                                     [key], {});\n",
              "          if (!dataTable) return;\n",
              "\n",
              "          const docLinkHtml = 'Like what you see? Visit the ' +\n",
              "            '<a target=\"_blank\" href=https://colab.research.google.com/notebooks/data_table.ipynb>data table notebook</a>'\n",
              "            + ' to learn more about interactive tables.';\n",
              "          element.innerHTML = '';\n",
              "          dataTable['output_type'] = 'display_data';\n",
              "          await google.colab.output.renderOutput(dataTable, element);\n",
              "          const docLink = document.createElement('div');\n",
              "          docLink.innerHTML = docLinkHtml;\n",
              "          element.appendChild(docLink);\n",
              "        }\n",
              "      </script>\n",
              "    </div>\n",
              "  </div>\n",
              "  "
            ]
          },
          "metadata": {},
          "execution_count": 27
        }
      ]
    },
    {
      "cell_type": "code",
      "source": [
        "kisan1['loan_status'].value_counts()"
      ],
      "metadata": {
        "colab": {
          "base_uri": "https://localhost:8080/"
        },
        "id": "bxZolRZs-ojs",
        "outputId": "e6e13ce4-7aad-4699-91ce-503a07886bb6"
      },
      "execution_count": null,
      "outputs": [
        {
          "output_type": "execute_result",
          "data": {
            "text/plain": [
              "Fully Paid     78498\n",
              "Charged Off    19294\n",
              "Jun-13           125\n",
              "Aug-13           107\n",
              "May-13            99\n",
              "               ...  \n",
              "42000              1\n",
              "81090              1\n",
              "40000              1\n",
              "85000              1\n",
              "275000             1\n",
              "Name: loan_status, Length: 127, dtype: int64"
            ]
          },
          "metadata": {},
          "execution_count": 28
        }
      ]
    },
    {
      "cell_type": "code",
      "source": [
        "kisan2=kisan1[(kisan1['loan_status']=='Fully Paid')|((kisan1['loan_status']=='Charged Off'))]\n",
        "kisan2.shape"
      ],
      "metadata": {
        "colab": {
          "base_uri": "https://localhost:8080/"
        },
        "id": "y9q3hV27-s7Q",
        "outputId": "2caeea5f-b8ef-476e-fe0a-ea171cf6006f"
      },
      "execution_count": null,
      "outputs": [
        {
          "output_type": "execute_result",
          "data": {
            "text/plain": [
              "(97792, 27)"
            ]
          },
          "metadata": {},
          "execution_count": 29
        }
      ]
    },
    {
      "cell_type": "code",
      "source": [
        "kisan2.info()"
      ],
      "metadata": {
        "colab": {
          "base_uri": "https://localhost:8080/"
        },
        "id": "hH5U3Jfj_EMp",
        "outputId": "df83cae2-c4b1-4b42-f121-adb8ecd0d5c7"
      },
      "execution_count": null,
      "outputs": [
        {
          "output_type": "stream",
          "name": "stdout",
          "text": [
            "<class 'pandas.core.frame.DataFrame'>\n",
            "Int64Index: 97792 entries, 0 to 200488\n",
            "Data columns (total 27 columns):\n",
            " #   Column                Non-Null Count  Dtype  \n",
            "---  ------                --------------  -----  \n",
            " 0   loan_amnt             97792 non-null  object \n",
            " 1   term                  97792 non-null  object \n",
            " 2   int_rate              97792 non-null  float64\n",
            " 3   installment           97792 non-null  float64\n",
            " 4   grade                 97792 non-null  object \n",
            " 5   sub_grade             97792 non-null  object \n",
            " 6   emp_title             92061 non-null  object \n",
            " 7   emp_length            93190 non-null  object \n",
            " 8   home_ownership        97792 non-null  object \n",
            " 9   annual_inc            97792 non-null  object \n",
            " 10  verification_status   97792 non-null  object \n",
            " 11  issue_d               97792 non-null  object \n",
            " 12  loan_status           97792 non-null  object \n",
            " 13  purpose               97792 non-null  object \n",
            " 14  title                 97351 non-null  object \n",
            " 15  dti                   97792 non-null  object \n",
            " 16  earliest_cr_line      97792 non-null  object \n",
            " 17  open_acc              97792 non-null  object \n",
            " 18  pub_rec               97792 non-null  object \n",
            " 19  revol_bal             97792 non-null  object \n",
            " 20  revol_util            97723 non-null  float64\n",
            " 21  total_acc             97792 non-null  float64\n",
            " 22  initial_list_status   97792 non-null  object \n",
            " 23  application_type      97792 non-null  object \n",
            " 24  mort_acc              88924 non-null  object \n",
            " 25  pub_rec_bankruptcies  97607 non-null  object \n",
            " 26  address               97782 non-null  object \n",
            "dtypes: float64(4), object(23)\n",
            "memory usage: 20.9+ MB\n"
          ]
        }
      ]
    },
    {
      "cell_type": "code",
      "source": [
        "kisan2.isnull().sum()"
      ],
      "metadata": {
        "colab": {
          "base_uri": "https://localhost:8080/"
        },
        "id": "v28PscSG_Nho",
        "outputId": "42ba8bb1-4150-4fc1-bdc8-94483da14394"
      },
      "execution_count": null,
      "outputs": [
        {
          "output_type": "execute_result",
          "data": {
            "text/plain": [
              "loan_amnt                  0\n",
              "term                       0\n",
              "int_rate                   0\n",
              "installment                0\n",
              "grade                      0\n",
              "sub_grade                  0\n",
              "emp_title               5731\n",
              "emp_length              4602\n",
              "home_ownership             0\n",
              "annual_inc                 0\n",
              "verification_status        0\n",
              "issue_d                    0\n",
              "loan_status                0\n",
              "purpose                    0\n",
              "title                    441\n",
              "dti                        0\n",
              "earliest_cr_line           0\n",
              "open_acc                   0\n",
              "pub_rec                    0\n",
              "revol_bal                  0\n",
              "revol_util                69\n",
              "total_acc                  0\n",
              "initial_list_status        0\n",
              "application_type           0\n",
              "mort_acc                8868\n",
              "pub_rec_bankruptcies     185\n",
              "address                   10\n",
              "dtype: int64"
            ]
          },
          "metadata": {},
          "execution_count": 31
        }
      ]
    },
    {
      "cell_type": "code",
      "source": [
        "import re\n",
        "pattern='[a-zA-Z]'\n",
        "cols=['loan_amnt','annual_inc','dti','revol_bal','mort_acc']\n",
        "for i in cols:\n",
        "    kisan2[i]=list(map(lambda x:'nan'if re.search(pattern,str(x))else x,kisan2[i]))\n",
        "    kisan2=kisan2[kisan2[i]!='nan']\n",
        "kisan2.shape"
      ],
      "metadata": {
        "colab": {
          "base_uri": "https://localhost:8080/"
        },
        "id": "xc5eZrEO_VUx",
        "outputId": "7ae4a302-4935-46c7-ef6d-73e052104f8e"
      },
      "execution_count": null,
      "outputs": [
        {
          "output_type": "stream",
          "name": "stderr",
          "text": [
            "/usr/local/lib/python3.7/dist-packages/ipykernel_launcher.py:5: SettingWithCopyWarning: \n",
            "A value is trying to be set on a copy of a slice from a DataFrame.\n",
            "Try using .loc[row_indexer,col_indexer] = value instead\n",
            "\n",
            "See the caveats in the documentation: https://pandas.pydata.org/pandas-docs/stable/user_guide/indexing.html#returning-a-view-versus-a-copy\n",
            "  \"\"\"\n"
          ]
        },
        {
          "output_type": "execute_result",
          "data": {
            "text/plain": [
              "(88741, 27)"
            ]
          },
          "metadata": {},
          "execution_count": 32
        }
      ]
    },
    {
      "cell_type": "code",
      "source": [
        "cols=['loan_amnt','int_rate','installment','annual_inc','dti',\n",
        " 'revol_bal','revol_util']\n",
        "for i in cols:\n",
        " kisan2[i]=list(map(lambda x:float(x),kisan2[i]))\n",
        "kisan2.info()"
      ],
      "metadata": {
        "colab": {
          "base_uri": "https://localhost:8080/"
        },
        "id": "rSEhwsUH_8VC",
        "outputId": "f4105b19-f694-4a64-b78c-ddbfe469c4f9"
      },
      "execution_count": null,
      "outputs": [
        {
          "output_type": "stream",
          "name": "stdout",
          "text": [
            "<class 'pandas.core.frame.DataFrame'>\n",
            "Int64Index: 88741 entries, 0 to 200488\n",
            "Data columns (total 27 columns):\n",
            " #   Column                Non-Null Count  Dtype  \n",
            "---  ------                --------------  -----  \n",
            " 0   loan_amnt             88741 non-null  float64\n",
            " 1   term                  88741 non-null  object \n",
            " 2   int_rate              88741 non-null  float64\n",
            " 3   installment           88741 non-null  float64\n",
            " 4   grade                 88741 non-null  object \n",
            " 5   sub_grade             88741 non-null  object \n",
            " 6   emp_title             83607 non-null  object \n",
            " 7   emp_length            84403 non-null  object \n",
            " 8   home_ownership        88741 non-null  object \n",
            " 9   annual_inc            88741 non-null  float64\n",
            " 10  verification_status   88741 non-null  object \n",
            " 11  issue_d               88741 non-null  object \n",
            " 12  loan_status           88741 non-null  object \n",
            " 13  purpose               88741 non-null  object \n",
            " 14  title                 88302 non-null  object \n",
            " 15  dti                   88741 non-null  float64\n",
            " 16  earliest_cr_line      88741 non-null  object \n",
            " 17  open_acc              88741 non-null  object \n",
            " 18  pub_rec               88741 non-null  object \n",
            " 19  revol_bal             88741 non-null  float64\n",
            " 20  revol_util            88684 non-null  float64\n",
            " 21  total_acc             88741 non-null  float64\n",
            " 22  initial_list_status   88741 non-null  object \n",
            " 23  application_type      88741 non-null  object \n",
            " 24  mort_acc              88741 non-null  object \n",
            " 25  pub_rec_bankruptcies  88741 non-null  object \n",
            " 26  address               88741 non-null  object \n",
            "dtypes: float64(8), object(19)\n",
            "memory usage: 19.0+ MB\n"
          ]
        }
      ]
    },
    {
      "cell_type": "code",
      "source": [
        "kisan2['title'].value_counts()"
      ],
      "metadata": {
        "colab": {
          "base_uri": "https://localhost:8080/"
        },
        "id": "1XnX8lmpAGzV",
        "outputId": "3d05b0ee-1477-4604-bc05-6d015ece4627"
      },
      "execution_count": null,
      "outputs": [
        {
          "output_type": "execute_result",
          "data": {
            "text/plain": [
              "Debt consolidation                  37962\n",
              "Credit card refinancing             12970\n",
              "Home improvement                     3865\n",
              "Other                                3179\n",
              "Debt Consolidation                   2191\n",
              "                                    ...  \n",
              "Credit Card and Medical Expenses        1\n",
              "Home remodeling                         1\n",
              "Getting a relief                        1\n",
              "PayOffs For Good                        1\n",
              "Credit card paid off                    1\n",
              "Name: title, Length: 10289, dtype: int64"
            ]
          },
          "metadata": {},
          "execution_count": 34
        }
      ]
    },
    {
      "cell_type": "code",
      "source": [
        "kisan2['purpose'].value_counts()"
      ],
      "metadata": {
        "colab": {
          "base_uri": "https://localhost:8080/"
        },
        "id": "Z8c3fOsLAzMS",
        "outputId": "44f548e8-3295-44d6-c7b9-f5e6dd8a2d37"
      },
      "execution_count": null,
      "outputs": [
        {
          "output_type": "execute_result",
          "data": {
            "text/plain": [
              "debt_consolidation    53511\n",
              "credit_card           19352\n",
              "home_improvement       5359\n",
              "other                  4275\n",
              "major_purchase         1723\n",
              "small_business          939\n",
              "medical                 889\n",
              "car                     808\n",
              "moving                  599\n",
              "vacation                549\n",
              "house                   468\n",
              "wedding                 215\n",
              "renewable_energy         53\n",
              "educational               1\n",
              "Name: purpose, dtype: int64"
            ]
          },
          "metadata": {},
          "execution_count": 35
        }
      ]
    },
    {
      "cell_type": "code",
      "source": [
        "z=['debt_consolidation','credit_card']\n",
        "kisan2['purpose']=list(map(lambda x:x if x in z else 'others',kisan2['purpose']))\n",
        "kisan2['purpose'].value_counts()"
      ],
      "metadata": {
        "colab": {
          "base_uri": "https://localhost:8080/"
        },
        "id": "BfOhITtQA33r",
        "outputId": "34756221-a98e-4b94-8284-a7a2d90cca32"
      },
      "execution_count": null,
      "outputs": [
        {
          "output_type": "execute_result",
          "data": {
            "text/plain": [
              "debt_consolidation    53511\n",
              "credit_card           19352\n",
              "others                15878\n",
              "Name: purpose, dtype: int64"
            ]
          },
          "metadata": {},
          "execution_count": 36
        }
      ]
    },
    {
      "cell_type": "code",
      "source": [
        "kisan2['home_ownership'].value_counts()"
      ],
      "metadata": {
        "colab": {
          "base_uri": "https://localhost:8080/"
        },
        "id": "H-FKYuUwA9_8",
        "outputId": "2de27e65-9ff0-4172-82e7-50bb5aa55793"
      },
      "execution_count": null,
      "outputs": [
        {
          "output_type": "execute_result",
          "data": {
            "text/plain": [
              "MORTGAGE    45023\n",
              "RENT        35083\n",
              "OWN          8613\n",
              "OTHER          13\n",
              "NONE            7\n",
              "ANY             2\n",
              "Name: home_ownership, dtype: int64"
            ]
          },
          "metadata": {},
          "execution_count": 37
        }
      ]
    },
    {
      "cell_type": "code",
      "source": [
        "z=['MORTGAGE','RENT']\n",
        "kisan2['home_ownership']=list(map(lambda x:x if x in z else 'OTHERS',kisan2['home_ownership']))\n",
        "kisan2['home_ownership'].value_counts()"
      ],
      "metadata": {
        "colab": {
          "base_uri": "https://localhost:8080/"
        },
        "id": "c3LcRdDqBBJz",
        "outputId": "65dda34a-2007-48a6-93d4-e22cd216af43"
      },
      "execution_count": null,
      "outputs": [
        {
          "output_type": "execute_result",
          "data": {
            "text/plain": [
              "MORTGAGE    45023\n",
              "RENT        35083\n",
              "OTHERS       8635\n",
              "Name: home_ownership, dtype: int64"
            ]
          },
          "metadata": {},
          "execution_count": 38
        }
      ]
    },
    {
      "cell_type": "code",
      "source": [
        "kisan2['verification_status'].value_counts()"
      ],
      "metadata": {
        "colab": {
          "base_uri": "https://localhost:8080/"
        },
        "id": "NKpcmgsUB62f",
        "outputId": "41c0db2a-e9d9-402f-c397-59745b3c4c0a"
      },
      "execution_count": null,
      "outputs": [
        {
          "output_type": "execute_result",
          "data": {
            "text/plain": [
              "Verified           31144\n",
              "Source Verified    30265\n",
              "Not Verified       27332\n",
              "Name: verification_status, dtype: int64"
            ]
          },
          "metadata": {},
          "execution_count": 39
        }
      ]
    },
    {
      "cell_type": "code",
      "source": [
        "values=['Verified','Not Verified']\n",
        "kisan2['verification_status']=list(map(lambda x:x if x in values else 'Verified',kisan2['verification_status']))\n",
        "kisan2['verification_status'].value_counts()"
      ],
      "metadata": {
        "colab": {
          "base_uri": "https://localhost:8080/"
        },
        "id": "oVgP0ZoOCwoe",
        "outputId": "49a048c9-1a3e-4906-f12e-c06e163bd07a"
      },
      "execution_count": null,
      "outputs": [
        {
          "data": {
            "text/plain": [
              "Verified        61409\n",
              "Not Verified    27332\n",
              "Name: verification_status, dtype: int64"
            ]
          },
          "execution_count": null,
          "metadata": {},
          "output_type": "execute_result"
        }
      ]
    },
    {
      "cell_type": "code",
      "source": [
        "kisan2['pub_rec'].value_counts()"
      ],
      "metadata": {
        "colab": {
          "base_uri": "https://localhost:8080/"
        },
        "id": "eJ36cYFhC2Ni",
        "outputId": "a861bc06-dc75-48d6-8519-1a3e3116bf48"
      },
      "execution_count": null,
      "outputs": [
        {
          "output_type": "execute_result",
          "data": {
            "text/plain": [
              "0     74769\n",
              "1     11950\n",
              "2      1393\n",
              "3       360\n",
              "4       147\n",
              "5        63\n",
              "6        27\n",
              "8        15\n",
              "7         8\n",
              "10        3\n",
              "9         2\n",
              "11        2\n",
              "19        1\n",
              "13        1\n",
              "Name: pub_rec, dtype: int64"
            ]
          },
          "metadata": {},
          "execution_count": 41
        }
      ]
    },
    {
      "cell_type": "code",
      "source": [
        "\n",
        "kisan2['pub_rec']=list(map(lambda x:x if x==0 else 1,kisan2['pub_rec']))\n",
        "kisan2['pub_rec'].value_counts()"
      ],
      "metadata": {
        "colab": {
          "base_uri": "https://localhost:8080/"
        },
        "id": "sOnj9iMpDAkd",
        "outputId": "bbeb58fc-b6cf-47e1-cd17-8f9648d5c5a9"
      },
      "execution_count": null,
      "outputs": [
        {
          "output_type": "execute_result",
          "data": {
            "text/plain": [
              "1    88741\n",
              "Name: pub_rec, dtype: int64"
            ]
          },
          "metadata": {},
          "execution_count": 42
        }
      ]
    },
    {
      "cell_type": "code",
      "source": [
        "kisan2.info()"
      ],
      "metadata": {
        "colab": {
          "base_uri": "https://localhost:8080/"
        },
        "id": "Me0RpqElDGoH",
        "outputId": "998b7ea3-df3a-476e-d029-b7a76c72369e"
      },
      "execution_count": null,
      "outputs": [
        {
          "output_type": "stream",
          "name": "stdout",
          "text": [
            "<class 'pandas.core.frame.DataFrame'>\n",
            "Int64Index: 88741 entries, 0 to 200488\n",
            "Data columns (total 27 columns):\n",
            " #   Column                Non-Null Count  Dtype  \n",
            "---  ------                --------------  -----  \n",
            " 0   loan_amnt             88741 non-null  float64\n",
            " 1   term                  88741 non-null  object \n",
            " 2   int_rate              88741 non-null  float64\n",
            " 3   installment           88741 non-null  float64\n",
            " 4   grade                 88741 non-null  object \n",
            " 5   sub_grade             88741 non-null  object \n",
            " 6   emp_title             83607 non-null  object \n",
            " 7   emp_length            84403 non-null  object \n",
            " 8   home_ownership        88741 non-null  object \n",
            " 9   annual_inc            88741 non-null  float64\n",
            " 10  verification_status   88741 non-null  object \n",
            " 11  issue_d               88741 non-null  object \n",
            " 12  loan_status           88741 non-null  object \n",
            " 13  purpose               88741 non-null  object \n",
            " 14  title                 88302 non-null  object \n",
            " 15  dti                   88741 non-null  float64\n",
            " 16  earliest_cr_line      88741 non-null  object \n",
            " 17  open_acc              88741 non-null  object \n",
            " 18  pub_rec               88741 non-null  int64  \n",
            " 19  revol_bal             88741 non-null  float64\n",
            " 20  revol_util            88684 non-null  float64\n",
            " 21  total_acc             88741 non-null  float64\n",
            " 22  initial_list_status   88741 non-null  object \n",
            " 23  application_type      88741 non-null  object \n",
            " 24  mort_acc              88741 non-null  object \n",
            " 25  pub_rec_bankruptcies  88741 non-null  object \n",
            " 26  address               88741 non-null  object \n",
            "dtypes: float64(8), int64(1), object(18)\n",
            "memory usage: 19.0+ MB\n"
          ]
        }
      ]
    }
  ]
}